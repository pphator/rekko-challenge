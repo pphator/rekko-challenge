{
 "cells": [
  {
   "cell_type": "code",
   "execution_count": 1,
   "metadata": {},
   "outputs": [],
   "source": [
    "import os\n",
    "import json\n",
    "import pandas as pd\n",
    "import numpy as np\n",
    "import tqdm\n",
    "import scipy.sparse as sp\n",
    "\n",
    "from pprint import pprint"
   ]
  },
  {
   "cell_type": "code",
   "execution_count": 2,
   "metadata": {},
   "outputs": [],
   "source": [
    "from matplotlib import pyplot as plt\n",
    "import seaborn as sns\n",
    "from datetime import datetime\n",
    "import swifter\n",
    "\n",
    "sns.set_style('whitegrid')"
   ]
  },
  {
   "cell_type": "code",
   "execution_count": 3,
   "metadata": {},
   "outputs": [],
   "source": [
    "from datetime import timedelta\n",
    "from IPython.display import Image\n",
    "\n",
    "import matplotlib\n",
    "matplotlib.rc('figure', figsize=(10, 5))"
   ]
  },
  {
   "cell_type": "code",
   "execution_count": 4,
   "metadata": {},
   "outputs": [],
   "source": [
    "DATA_PATH = '..\\\\data'"
   ]
  },
  {
   "cell_type": "markdown",
   "metadata": {},
   "source": [
    "### What to watch"
   ]
  },
  {
   "cell_type": "code",
   "execution_count": 5,
   "metadata": {},
   "outputs": [],
   "source": [
    "with open(os.path.join(DATA_PATH, 'catalogue.json'), 'r') as f:\n",
    "    catalogue = json.load(f)\n",
    "    \n",
    "catalogue = {int(k): v for k, v in catalogue.items()}\n",
    "catalogue_df = pd.DataFrame.from_dict(catalogue).transpose()\n",
    "catalogue_df['element_uid'] = catalogue_df.index\n",
    "catalogue_df.reset_index(drop=True, inplace=True)"
   ]
  },
  {
   "cell_type": "code",
   "execution_count": 6,
   "metadata": {},
   "outputs": [
    {
     "data": {
      "text/html": [
       "<div>\n",
       "<style scoped>\n",
       "    .dataframe tbody tr th:only-of-type {\n",
       "        vertical-align: middle;\n",
       "    }\n",
       "\n",
       "    .dataframe tbody tr th {\n",
       "        vertical-align: top;\n",
       "    }\n",
       "\n",
       "    .dataframe thead th {\n",
       "        text-align: right;\n",
       "    }\n",
       "</style>\n",
       "<table border=\"1\" class=\"dataframe\">\n",
       "  <thead>\n",
       "    <tr style=\"text-align: right;\">\n",
       "      <th></th>\n",
       "      <th>type</th>\n",
       "      <th>availability</th>\n",
       "      <th>duration</th>\n",
       "      <th>feature_1</th>\n",
       "      <th>feature_2</th>\n",
       "      <th>feature_3</th>\n",
       "      <th>feature_4</th>\n",
       "      <th>feature_5</th>\n",
       "      <th>attributes</th>\n",
       "      <th>element_uid</th>\n",
       "    </tr>\n",
       "  </thead>\n",
       "  <tbody>\n",
       "    <tr>\n",
       "      <th>0</th>\n",
       "      <td>movie</td>\n",
       "      <td>[purchase, rent, subscription]</td>\n",
       "      <td>140</td>\n",
       "      <td>1.65722e+06</td>\n",
       "      <td>0.75361</td>\n",
       "      <td>39</td>\n",
       "      <td>1.11941</td>\n",
       "      <td>0</td>\n",
       "      <td>[1, 2, 3, 4, 5, 6, 7, 8, 9, 10, 11, 12, 13, 14...</td>\n",
       "      <td>1983</td>\n",
       "    </tr>\n",
       "    <tr>\n",
       "      <th>1</th>\n",
       "      <td>movie</td>\n",
       "      <td>[purchase, rent, subscription]</td>\n",
       "      <td>110</td>\n",
       "      <td>3.55652e+07</td>\n",
       "      <td>0.766254</td>\n",
       "      <td>41</td>\n",
       "      <td>1.1386</td>\n",
       "      <td>0.654707</td>\n",
       "      <td>[1, 26, 27, 28, 29, 7, 30, 31, 32, 10, 14, 15,...</td>\n",
       "      <td>3783</td>\n",
       "    </tr>\n",
       "    <tr>\n",
       "      <th>2</th>\n",
       "      <td>movie</td>\n",
       "      <td>[purchase, rent, subscription]</td>\n",
       "      <td>90</td>\n",
       "      <td>1.32707e+07</td>\n",
       "      <td>0.765425</td>\n",
       "      <td>27</td>\n",
       "      <td>1.13181</td>\n",
       "      <td>0.592716</td>\n",
       "      <td>[1, 38, 39, 40, 7, 41, 42, 43, 14, 15, 17, 18,...</td>\n",
       "      <td>5208</td>\n",
       "    </tr>\n",
       "    <tr>\n",
       "      <th>3</th>\n",
       "      <td>movie</td>\n",
       "      <td>[purchase, rent, subscription]</td>\n",
       "      <td>120</td>\n",
       "      <td>2.17499e+07</td>\n",
       "      <td>0.757874</td>\n",
       "      <td>26</td>\n",
       "      <td>1.13353</td>\n",
       "      <td>0.654707</td>\n",
       "      <td>[1, 47, 48, 49, 50, 51, 52, 53, 32, 42, 54, 14...</td>\n",
       "      <td>9744</td>\n",
       "    </tr>\n",
       "    <tr>\n",
       "      <th>4</th>\n",
       "      <td>movie</td>\n",
       "      <td>[purchase, rent]</td>\n",
       "      <td>110</td>\n",
       "      <td>9.21296e+06</td>\n",
       "      <td>0.759566</td>\n",
       "      <td>7</td>\n",
       "      <td>1.11013</td>\n",
       "      <td>0.654707</td>\n",
       "      <td>[1, 59, 60, 61, 62, 7, 52, 63, 10, 42, 54, 17,...</td>\n",
       "      <td>1912</td>\n",
       "    </tr>\n",
       "  </tbody>\n",
       "</table>\n",
       "</div>"
      ],
      "text/plain": [
       "    type                    availability duration    feature_1 feature_2  \\\n",
       "0  movie  [purchase, rent, subscription]      140  1.65722e+06   0.75361   \n",
       "1  movie  [purchase, rent, subscription]      110  3.55652e+07  0.766254   \n",
       "2  movie  [purchase, rent, subscription]       90  1.32707e+07  0.765425   \n",
       "3  movie  [purchase, rent, subscription]      120  2.17499e+07  0.757874   \n",
       "4  movie                [purchase, rent]      110  9.21296e+06  0.759566   \n",
       "\n",
       "  feature_3 feature_4 feature_5  \\\n",
       "0        39   1.11941         0   \n",
       "1        41    1.1386  0.654707   \n",
       "2        27   1.13181  0.592716   \n",
       "3        26   1.13353  0.654707   \n",
       "4         7   1.11013  0.654707   \n",
       "\n",
       "                                          attributes  element_uid  \n",
       "0  [1, 2, 3, 4, 5, 6, 7, 8, 9, 10, 11, 12, 13, 14...         1983  \n",
       "1  [1, 26, 27, 28, 29, 7, 30, 31, 32, 10, 14, 15,...         3783  \n",
       "2  [1, 38, 39, 40, 7, 41, 42, 43, 14, 15, 17, 18,...         5208  \n",
       "3  [1, 47, 48, 49, 50, 51, 52, 53, 32, 42, 54, 14...         9744  \n",
       "4  [1, 59, 60, 61, 62, 7, 52, 63, 10, 42, 54, 17,...         1912  "
      ]
     },
     "execution_count": 6,
     "metadata": {},
     "output_type": "execute_result"
    }
   ],
   "source": [
    "catalogue_df.head(5)"
   ]
  },
  {
   "cell_type": "markdown",
   "metadata": {},
   "source": [
    "Possibly:\n",
    "- feature_1: when the item was added to the database\n",
    "- feature_2: processed rating\n",
    "- feature_3: the number of reviews"
   ]
  },
  {
   "cell_type": "markdown",
   "metadata": {},
   "source": [
    "### How people watch - Transactions"
   ]
  },
  {
   "cell_type": "code",
   "execution_count": 20,
   "metadata": {},
   "outputs": [
    {
     "name": "stdout",
     "output_type": "stream",
     "text": [
      "Wall time: 6.71 s\n"
     ]
    }
   ],
   "source": [
    "%%time\n",
    "transactions = pd.read_csv(\n",
    "    os.path.join(DATA_PATH, 'transactions.csv'),\n",
    "    dtype={\n",
    "        'element_uid': np.uint16,\n",
    "        'user_uid': np.uint32,\n",
    "        'consumption_mode': 'category',\n",
    "        'ts': np.float64,\n",
    "        'watched_time': np.uint64,\n",
    "        'device_type': np.uint8,\n",
    "        'device_manufacturer': np.uint8\n",
    "    }\n",
    ")"
   ]
  },
  {
   "cell_type": "code",
   "execution_count": 21,
   "metadata": {},
   "outputs": [],
   "source": [
    "transactions = transactions.merge(catalogue_df[['type', 'duration', 'element_uid']], how='left', on='element_uid')"
   ]
  },
  {
   "cell_type": "code",
   "execution_count": 22,
   "metadata": {},
   "outputs": [
    {
     "data": {
      "text/html": [
       "<div>\n",
       "<style scoped>\n",
       "    .dataframe tbody tr th:only-of-type {\n",
       "        vertical-align: middle;\n",
       "    }\n",
       "\n",
       "    .dataframe tbody tr th {\n",
       "        vertical-align: top;\n",
       "    }\n",
       "\n",
       "    .dataframe thead th {\n",
       "        text-align: right;\n",
       "    }\n",
       "</style>\n",
       "<table border=\"1\" class=\"dataframe\">\n",
       "  <thead>\n",
       "    <tr style=\"text-align: right;\">\n",
       "      <th></th>\n",
       "      <th>element_uid</th>\n",
       "      <th>user_uid</th>\n",
       "      <th>consumption_mode</th>\n",
       "      <th>ts</th>\n",
       "      <th>watched_time</th>\n",
       "      <th>device_type</th>\n",
       "      <th>device_manufacturer</th>\n",
       "      <th>type</th>\n",
       "      <th>duration</th>\n",
       "    </tr>\n",
       "  </thead>\n",
       "  <tbody>\n",
       "    <tr>\n",
       "      <th>0</th>\n",
       "      <td>3336</td>\n",
       "      <td>5177</td>\n",
       "      <td>S</td>\n",
       "      <td>4.430518e+07</td>\n",
       "      <td>4282</td>\n",
       "      <td>0</td>\n",
       "      <td>50</td>\n",
       "      <td>movie</td>\n",
       "      <td>90</td>\n",
       "    </tr>\n",
       "    <tr>\n",
       "      <th>1</th>\n",
       "      <td>481</td>\n",
       "      <td>593316</td>\n",
       "      <td>S</td>\n",
       "      <td>4.430518e+07</td>\n",
       "      <td>2989</td>\n",
       "      <td>0</td>\n",
       "      <td>11</td>\n",
       "      <td>movie</td>\n",
       "      <td>50</td>\n",
       "    </tr>\n",
       "    <tr>\n",
       "      <th>2</th>\n",
       "      <td>4128</td>\n",
       "      <td>262355</td>\n",
       "      <td>S</td>\n",
       "      <td>4.430518e+07</td>\n",
       "      <td>833</td>\n",
       "      <td>0</td>\n",
       "      <td>50</td>\n",
       "      <td>movie</td>\n",
       "      <td>100</td>\n",
       "    </tr>\n",
       "  </tbody>\n",
       "</table>\n",
       "</div>"
      ],
      "text/plain": [
       "   element_uid  user_uid consumption_mode            ts  watched_time  \\\n",
       "0         3336      5177                S  4.430518e+07          4282   \n",
       "1          481    593316                S  4.430518e+07          2989   \n",
       "2         4128    262355                S  4.430518e+07           833   \n",
       "\n",
       "   device_type  device_manufacturer   type duration  \n",
       "0            0                   50  movie       90  \n",
       "1            0                   11  movie       50  \n",
       "2            0                   50  movie      100  "
      ]
     },
     "execution_count": 22,
     "metadata": {},
     "output_type": "execute_result"
    }
   ],
   "source": [
    "transactions.head(3)"
   ]
  },
  {
   "cell_type": "markdown",
   "metadata": {},
   "source": [
    "Important moment: <br>\n",
    "The user is considered to have consumed the content if they:\n",
    "1. Bought it or rented it\n",
    "2. Watched more than half of the movie by subscription\n",
    "3. Watched more than a third of the series by subscription"
   ]
  },
  {
   "cell_type": "markdown",
   "metadata": {},
   "source": [
    "Here we don't have the number of episodes for series and multipart movies. We can't estimate, did the user consume that kind of items. That's why I remove them from the dataset. "
   ]
  },
  {
   "cell_type": "code",
   "execution_count": 23,
   "metadata": {},
   "outputs": [],
   "source": [
    "transactions = transactions[~transactions['type'].isin(['series', 'multipart_movie'])]"
   ]
  },
  {
   "cell_type": "markdown",
   "metadata": {},
   "source": [
    "By default we have watched_time in seconds, but the duration in minutes. Let's calculate watched_time_minutes"
   ]
  },
  {
   "cell_type": "code",
   "execution_count": 24,
   "metadata": {},
   "outputs": [
    {
     "data": {
      "application/vnd.jupyter.widget-view+json": {
       "model_id": "5d96adb7cd984504bb15cd1c047a5a41",
       "version_major": 2,
       "version_minor": 0
      },
      "text/plain": [
       "HBox(children=(FloatProgress(value=0.0, description='Dask Apply', max=8.0, style=ProgressStyle(description_wid…"
      ]
     },
     "metadata": {},
     "output_type": "display_data"
    },
    {
     "name": "stdout",
     "output_type": "stream",
     "text": [
      "\n"
     ]
    }
   ],
   "source": [
    "transactions['watched_time_minutes'] = transactions['watched_time'].swifter.apply(lambda x: int(x/60))"
   ]
  },
  {
   "cell_type": "code",
   "execution_count": 108,
   "metadata": {},
   "outputs": [
    {
     "data": {
      "text/plain": [
       "<AxesSubplot:xlabel='watched_time_minutes', ylabel='Density'>"
      ]
     },
     "execution_count": 108,
     "metadata": {},
     "output_type": "execute_result"
    },
    {
     "data": {
      "image/png": "[encoded data removed]",
      "text/plain": [
       "<Figure size 720x360 with 1 Axes>"
      ]
     },
     "metadata": {},
     "output_type": "display_data"
    }
   ],
   "source": [
    "sns.distplot(transactions['watched_time_minutes'])"
   ]
  },
  {
   "cell_type": "code",
   "execution_count": 109,
   "metadata": {},
   "outputs": [
    {
     "data": {
      "text/plain": [
       "<AxesSubplot:xlabel='watched_time_minutes'>"
      ]
     },
     "execution_count": 109,
     "metadata": {},
     "output_type": "execute_result"
    },
    {
     "data": {
      "image/png": "[encoded data removed]",
      "text/plain": [
       "<Figure size 720x360 with 1 Axes>"
      ]
     },
     "metadata": {},
     "output_type": "display_data"
    }
   ],
   "source": [
    "sns.boxplot(transactions['watched_time_minutes'])"
   ]
  },
  {
   "cell_type": "code",
   "execution_count": 25,
   "metadata": {},
   "outputs": [
    {
     "data": {
      "text/plain": [
       "count    8.447928e+06\n",
       "mean     7.958585e+01\n",
       "std      1.092484e+02\n",
       "min      0.000000e+00\n",
       "25%      1.800000e+01\n",
       "50%      8.300000e+01\n",
       "75%      1.050000e+02\n",
       "max      5.096400e+04\n",
       "Name: watched_time_minutes, dtype: float64"
      ]
     },
     "execution_count": 25,
     "metadata": {},
     "output_type": "execute_result"
    }
   ],
   "source": [
    "transactions['watched_time_minutes'].describe()"
   ]
  },
  {
   "cell_type": "markdown",
   "metadata": {},
   "source": [
    "Let's calculate watched ratio based on duration and watched_time_minutes"
   ]
  },
  {
   "cell_type": "markdown",
   "metadata": {},
   "source": [
    "<b>Note</b>: duration is rounded to tens and could be zero"
   ]
  },
  {
   "cell_type": "markdown",
   "metadata": {},
   "source": [
    "Let's check how many very short movies in the catalogue"
   ]
  },
  {
   "cell_type": "code",
   "execution_count": 13,
   "metadata": {},
   "outputs": [
    {
     "data": {
      "text/plain": [
       "<AxesSubplot:>"
      ]
     },
     "execution_count": 13,
     "metadata": {},
     "output_type": "execute_result"
    },
    {
     "data": {
      "image/png": "[encoded data removed]",
      "text/plain": [
       "<Figure size 720x360 with 1 Axes>"
      ]
     },
     "metadata": {},
     "output_type": "display_data"
    }
   ],
   "source": [
    "catalogue_df['duration'].hist(bins=50)"
   ]
  },
  {
   "cell_type": "code",
   "execution_count": 26,
   "metadata": {},
   "outputs": [
    {
     "name": "stdout",
     "output_type": "stream",
     "text": [
      "Total number of movies = 10200\n",
      "The number of zero-duration movies = 114\n",
      "The ratio of zero-duration movies (in percent) = 1.12%\n"
     ]
    }
   ],
   "source": [
    "zero_movies_ratio = catalogue_df[catalogue_df['duration'] == 0].shape[0]/catalogue_df.shape[0]\n",
    "print('Total number of movies = {0}'.format(catalogue_df.shape[0]))\n",
    "print('The number of zero-duration movies = {0}'.format(catalogue_df[catalogue_df['duration'] == 0].shape[0]))\n",
    "print('The ratio of zero-duration movies (in percent) = {0}%'.format(round(zero_movies_ratio*100, 2)))"
   ]
  },
  {
   "cell_type": "code",
   "execution_count": 27,
   "metadata": {},
   "outputs": [],
   "source": [
    "zero_duration_movies = catalogue_df[catalogue_df['duration'] == 0]['element_uid']"
   ]
  },
  {
   "cell_type": "code",
   "execution_count": 28,
   "metadata": {},
   "outputs": [],
   "source": [
    "transactions = transactions[~transactions['element_uid'].isin(zero_duration_movies)]"
   ]
  },
  {
   "cell_type": "code",
   "execution_count": 29,
   "metadata": {},
   "outputs": [],
   "source": [
    "transactions['duration'] = transactions['duration'].astype('int32')"
   ]
  },
  {
   "cell_type": "code",
   "execution_count": 30,
   "metadata": {},
   "outputs": [],
   "source": [
    "transactions['watched_ratio'] = transactions['watched_time_minutes']/transactions['duration']"
   ]
  },
  {
   "cell_type": "code",
   "execution_count": 31,
   "metadata": {},
   "outputs": [
    {
     "data": {
      "text/plain": [
       "count    8.444769e+06\n",
       "mean     7.918364e-01\n",
       "std      1.079774e+00\n",
       "min      0.000000e+00\n",
       "25%      2.090909e-01\n",
       "50%      9.100000e-01\n",
       "75%      1.007692e+00\n",
       "max      5.096400e+02\n",
       "Name: watched_ratio, dtype: float64"
      ]
     },
     "execution_count": 31,
     "metadata": {},
     "output_type": "execute_result"
    }
   ],
   "source": [
    "transactions['watched_ratio'].describe()"
   ]
  },
  {
   "cell_type": "code",
   "execution_count": 32,
   "metadata": {},
   "outputs": [
    {
     "data": {
      "text/html": [
       "<div>\n",
       "<style scoped>\n",
       "    .dataframe tbody tr th:only-of-type {\n",
       "        vertical-align: middle;\n",
       "    }\n",
       "\n",
       "    .dataframe tbody tr th {\n",
       "        vertical-align: top;\n",
       "    }\n",
       "\n",
       "    .dataframe thead th {\n",
       "        text-align: right;\n",
       "    }\n",
       "</style>\n",
       "<table border=\"1\" class=\"dataframe\">\n",
       "  <thead>\n",
       "    <tr style=\"text-align: right;\">\n",
       "      <th></th>\n",
       "      <th>element_uid</th>\n",
       "      <th>user_uid</th>\n",
       "      <th>consumption_mode</th>\n",
       "      <th>ts</th>\n",
       "      <th>watched_time</th>\n",
       "      <th>device_type</th>\n",
       "      <th>device_manufacturer</th>\n",
       "      <th>type</th>\n",
       "      <th>duration</th>\n",
       "      <th>watched_time_minutes</th>\n",
       "      <th>watched_ratio</th>\n",
       "    </tr>\n",
       "  </thead>\n",
       "  <tbody>\n",
       "    <tr>\n",
       "      <th>348</th>\n",
       "      <td>9472</td>\n",
       "      <td>276079</td>\n",
       "      <td>S</td>\n",
       "      <td>4.430509e+07</td>\n",
       "      <td>32079</td>\n",
       "      <td>0</td>\n",
       "      <td>50</td>\n",
       "      <td>movie</td>\n",
       "      <td>110</td>\n",
       "      <td>534</td>\n",
       "      <td>4.854545</td>\n",
       "    </tr>\n",
       "    <tr>\n",
       "      <th>352</th>\n",
       "      <td>3245</td>\n",
       "      <td>592120</td>\n",
       "      <td>S</td>\n",
       "      <td>4.430508e+07</td>\n",
       "      <td>31344</td>\n",
       "      <td>0</td>\n",
       "      <td>11</td>\n",
       "      <td>movie</td>\n",
       "      <td>100</td>\n",
       "      <td>522</td>\n",
       "      <td>5.220000</td>\n",
       "    </tr>\n",
       "    <tr>\n",
       "      <th>511</th>\n",
       "      <td>2218</td>\n",
       "      <td>314462</td>\n",
       "      <td>S</td>\n",
       "      <td>4.430505e+07</td>\n",
       "      <td>27559</td>\n",
       "      <td>0</td>\n",
       "      <td>50</td>\n",
       "      <td>movie</td>\n",
       "      <td>100</td>\n",
       "      <td>459</td>\n",
       "      <td>4.590000</td>\n",
       "    </tr>\n",
       "    <tr>\n",
       "      <th>920</th>\n",
       "      <td>8501</td>\n",
       "      <td>141969</td>\n",
       "      <td>S</td>\n",
       "      <td>4.430495e+07</td>\n",
       "      <td>29200</td>\n",
       "      <td>0</td>\n",
       "      <td>11</td>\n",
       "      <td>movie</td>\n",
       "      <td>110</td>\n",
       "      <td>486</td>\n",
       "      <td>4.418182</td>\n",
       "    </tr>\n",
       "    <tr>\n",
       "      <th>1143</th>\n",
       "      <td>747</td>\n",
       "      <td>98652</td>\n",
       "      <td>S</td>\n",
       "      <td>4.430490e+07</td>\n",
       "      <td>56758</td>\n",
       "      <td>0</td>\n",
       "      <td>99</td>\n",
       "      <td>movie</td>\n",
       "      <td>120</td>\n",
       "      <td>945</td>\n",
       "      <td>7.875000</td>\n",
       "    </tr>\n",
       "    <tr>\n",
       "      <th>...</th>\n",
       "      <td>...</td>\n",
       "      <td>...</td>\n",
       "      <td>...</td>\n",
       "      <td>...</td>\n",
       "      <td>...</td>\n",
       "      <td>...</td>\n",
       "      <td>...</td>\n",
       "      <td>...</td>\n",
       "      <td>...</td>\n",
       "      <td>...</td>\n",
       "      <td>...</td>\n",
       "    </tr>\n",
       "    <tr>\n",
       "      <th>9641572</th>\n",
       "      <td>3336</td>\n",
       "      <td>147771</td>\n",
       "      <td>P</td>\n",
       "      <td>4.173097e+07</td>\n",
       "      <td>28695</td>\n",
       "      <td>0</td>\n",
       "      <td>11</td>\n",
       "      <td>movie</td>\n",
       "      <td>90</td>\n",
       "      <td>478</td>\n",
       "      <td>5.311111</td>\n",
       "    </tr>\n",
       "    <tr>\n",
       "      <th>9642167</th>\n",
       "      <td>1354</td>\n",
       "      <td>468386</td>\n",
       "      <td>P</td>\n",
       "      <td>4.173082e+07</td>\n",
       "      <td>36404</td>\n",
       "      <td>0</td>\n",
       "      <td>11</td>\n",
       "      <td>movie</td>\n",
       "      <td>100</td>\n",
       "      <td>606</td>\n",
       "      <td>6.060000</td>\n",
       "    </tr>\n",
       "    <tr>\n",
       "      <th>9642443</th>\n",
       "      <td>1875</td>\n",
       "      <td>130970</td>\n",
       "      <td>P</td>\n",
       "      <td>4.173076e+07</td>\n",
       "      <td>51566</td>\n",
       "      <td>0</td>\n",
       "      <td>99</td>\n",
       "      <td>movie</td>\n",
       "      <td>120</td>\n",
       "      <td>859</td>\n",
       "      <td>7.158333</td>\n",
       "    </tr>\n",
       "    <tr>\n",
       "      <th>9642711</th>\n",
       "      <td>6377</td>\n",
       "      <td>25473</td>\n",
       "      <td>S</td>\n",
       "      <td>4.173069e+07</td>\n",
       "      <td>67106</td>\n",
       "      <td>0</td>\n",
       "      <td>85</td>\n",
       "      <td>movie</td>\n",
       "      <td>110</td>\n",
       "      <td>1118</td>\n",
       "      <td>10.163636</td>\n",
       "    </tr>\n",
       "    <tr>\n",
       "      <th>9642897</th>\n",
       "      <td>452</td>\n",
       "      <td>396450</td>\n",
       "      <td>S</td>\n",
       "      <td>4.173066e+07</td>\n",
       "      <td>132195</td>\n",
       "      <td>0</td>\n",
       "      <td>50</td>\n",
       "      <td>movie</td>\n",
       "      <td>100</td>\n",
       "      <td>2203</td>\n",
       "      <td>22.030000</td>\n",
       "    </tr>\n",
       "  </tbody>\n",
       "</table>\n",
       "<p>65371 rows × 11 columns</p>\n",
       "</div>"
      ],
      "text/plain": [
       "         element_uid  user_uid consumption_mode            ts  watched_time  \\\n",
       "348             9472    276079                S  4.430509e+07         32079   \n",
       "352             3245    592120                S  4.430508e+07         31344   \n",
       "511             2218    314462                S  4.430505e+07         27559   \n",
       "920             8501    141969                S  4.430495e+07         29200   \n",
       "1143             747     98652                S  4.430490e+07         56758   \n",
       "...              ...       ...              ...           ...           ...   \n",
       "9641572         3336    147771                P  4.173097e+07         28695   \n",
       "9642167         1354    468386                P  4.173082e+07         36404   \n",
       "9642443         1875    130970                P  4.173076e+07         51566   \n",
       "9642711         6377     25473                S  4.173069e+07         67106   \n",
       "9642897          452    396450                S  4.173066e+07        132195   \n",
       "\n",
       "         device_type  device_manufacturer   type  duration  \\\n",
       "348                0                   50  movie       110   \n",
       "352                0                   11  movie       100   \n",
       "511                0                   50  movie       100   \n",
       "920                0                   11  movie       110   \n",
       "1143               0                   99  movie       120   \n",
       "...              ...                  ...    ...       ...   \n",
       "9641572            0                   11  movie        90   \n",
       "9642167            0                   11  movie       100   \n",
       "9642443            0                   99  movie       120   \n",
       "9642711            0                   85  movie       110   \n",
       "9642897            0                   50  movie       100   \n",
       "\n",
       "         watched_time_minutes  watched_ratio  \n",
       "348                       534       4.854545  \n",
       "352                       522       5.220000  \n",
       "511                       459       4.590000  \n",
       "920                       486       4.418182  \n",
       "1143                      945       7.875000  \n",
       "...                       ...            ...  \n",
       "9641572                   478       5.311111  \n",
       "9642167                   606       6.060000  \n",
       "9642443                   859       7.158333  \n",
       "9642711                  1118      10.163636  \n",
       "9642897                  2203      22.030000  \n",
       "\n",
       "[65371 rows x 11 columns]"
      ]
     },
     "execution_count": 32,
     "metadata": {},
     "output_type": "execute_result"
    }
   ],
   "source": [
    "transactions[transactions['watched_ratio'] > 4]"
   ]
  },
  {
   "cell_type": "markdown",
   "metadata": {},
   "source": [
    "Maybe it depends on consumption_mode?"
   ]
  },
  {
   "cell_type": "code",
   "execution_count": 33,
   "metadata": {},
   "outputs": [
    {
     "data": {
      "text/html": [
       "<div>\n",
       "<style scoped>\n",
       "    .dataframe tbody tr th:only-of-type {\n",
       "        vertical-align: middle;\n",
       "    }\n",
       "\n",
       "    .dataframe tbody tr th {\n",
       "        vertical-align: top;\n",
       "    }\n",
       "\n",
       "    .dataframe thead th {\n",
       "        text-align: right;\n",
       "    }\n",
       "</style>\n",
       "<table border=\"1\" class=\"dataframe\">\n",
       "  <thead>\n",
       "    <tr style=\"text-align: right;\">\n",
       "      <th></th>\n",
       "      <th>count</th>\n",
       "      <th>median</th>\n",
       "      <th>min</th>\n",
       "      <th>max</th>\n",
       "    </tr>\n",
       "    <tr>\n",
       "      <th>consumption_mode</th>\n",
       "      <th></th>\n",
       "      <th></th>\n",
       "      <th></th>\n",
       "      <th></th>\n",
       "    </tr>\n",
       "  </thead>\n",
       "  <tbody>\n",
       "    <tr>\n",
       "      <th>P</th>\n",
       "      <td>847756</td>\n",
       "      <td>0.977778</td>\n",
       "      <td>0.0</td>\n",
       "      <td>245.275</td>\n",
       "    </tr>\n",
       "    <tr>\n",
       "      <th>R</th>\n",
       "      <td>472377</td>\n",
       "      <td>0.970000</td>\n",
       "      <td>0.0</td>\n",
       "      <td>38.200</td>\n",
       "    </tr>\n",
       "    <tr>\n",
       "      <th>S</th>\n",
       "      <td>7124636</td>\n",
       "      <td>0.880000</td>\n",
       "      <td>0.0</td>\n",
       "      <td>509.640</td>\n",
       "    </tr>\n",
       "  </tbody>\n",
       "</table>\n",
       "</div>"
      ],
      "text/plain": [
       "                    count    median  min      max\n",
       "consumption_mode                                 \n",
       "P                  847756  0.977778  0.0  245.275\n",
       "R                  472377  0.970000  0.0   38.200\n",
       "S                 7124636  0.880000  0.0  509.640"
      ]
     },
     "execution_count": 33,
     "metadata": {},
     "output_type": "execute_result"
    }
   ],
   "source": [
    "transactions.groupby(['consumption_mode'])['watched_ratio'].agg(['count', 'median', 'min', 'max'])"
   ]
  },
  {
   "cell_type": "markdown",
   "metadata": {},
   "source": [
    "What is the ratio of transactions which have watched_ratio more than 2"
   ]
  },
  {
   "cell_type": "code",
   "execution_count": 34,
   "metadata": {},
   "outputs": [
    {
     "name": "stdout",
     "output_type": "stream",
     "text": [
      "3.0%\n"
     ]
    }
   ],
   "source": [
    "print('{0}%'.format(round(transactions[transactions['watched_ratio'] > 2].shape[0]/transactions.shape[0], 2)*100))"
   ]
  },
  {
   "cell_type": "code",
   "execution_count": 35,
   "metadata": {},
   "outputs": [],
   "source": [
    "transactions = transactions[transactions['watched_ratio'] <= 2]"
   ]
  },
  {
   "cell_type": "code",
   "execution_count": 36,
   "metadata": {},
   "outputs": [
    {
     "data": {
      "text/plain": [
       "<AxesSubplot:xlabel='watched_ratio'>"
      ]
     },
     "execution_count": 36,
     "metadata": {},
     "output_type": "execute_result"
    },
    {
     "data": {
      "image/png": "[encoded data removed]",
      "text/plain": [
       "<Figure size 720x360 with 1 Axes>"
      ]
     },
     "metadata": {},
     "output_type": "display_data"
    }
   ],
   "source": [
    "sns.boxplot(transactions['watched_ratio'])"
   ]
  },
  {
   "cell_type": "markdown",
   "metadata": {},
   "source": [
    "Let's label transactions in respect with rule, how the user could be considered to have consumed the content"
   ]
  },
  {
   "cell_type": "code",
   "execution_count": 37,
   "metadata": {},
   "outputs": [],
   "source": [
    "def set_target(row):\n",
    "    if row['consumption_mode'] == 'S':\n",
    "        if row['watched_time_minutes'] < row['duration']*0.5:\n",
    "            return 0\n",
    "        else:\n",
    "            return 1\n",
    "    else:\n",
    "        return 1"
   ]
  },
  {
   "cell_type": "code",
   "execution_count": 38,
   "metadata": {},
   "outputs": [],
   "source": [
    "transactions['target'] = transactions.apply(set_target, axis=1)"
   ]
  },
  {
   "cell_type": "code",
   "execution_count": 39,
   "metadata": {},
   "outputs": [
    {
     "name": "stdout",
     "output_type": "stream",
     "text": [
      "The ratio of consumed items = 67.0%\n"
     ]
    }
   ],
   "source": [
    "print('The ratio of consumed items = {0}%'.format(round(transactions[transactions['target'] == 1].shape[0]/transactions.shape[0], 2)*100))"
   ]
  },
  {
   "cell_type": "markdown",
   "metadata": {},
   "source": [
    "Let's explore timestamps of transactions"
   ]
  },
  {
   "cell_type": "markdown",
   "metadata": {},
   "source": [
    "If we assume that we have the number of seconds from some starting point"
   ]
  },
  {
   "cell_type": "code",
   "execution_count": 40,
   "metadata": {},
   "outputs": [
    {
     "data": {
      "text/plain": [
       "29.798006361554965"
      ]
     },
     "execution_count": 40,
     "metadata": {},
     "output_type": "execute_result"
    }
   ],
   "source": [
    "(transactions['ts'].max()-transactions['ts'].min())/(60*60*24)"
   ]
  },
  {
   "cell_type": "markdown",
   "metadata": {},
   "source": [
    "We have close to a month of observations. This is kind of weird because the organizers of the competition told that they gave us data about 60 days of observations. But from that moment the dataset could be fixed."
   ]
  },
  {
   "cell_type": "markdown",
   "metadata": {},
   "source": [
    "We can try to set some pretty form of timestamps using <i>datetime.utcfromtimestamp()</i> method"
   ]
  },
  {
   "cell_type": "code",
   "execution_count": 41,
   "metadata": {},
   "outputs": [
    {
     "data": {
      "application/vnd.jupyter.widget-view+json": {
       "model_id": "440d1c19c70f40cbb4d732c29eb4f451",
       "version_major": 2,
       "version_minor": 0
      },
      "text/plain": [
       "HBox(children=(FloatProgress(value=0.0, description='Dask Apply', max=8.0, style=ProgressStyle(description_wid…"
      ]
     },
     "metadata": {},
     "output_type": "display_data"
    },
    {
     "name": "stdout",
     "output_type": "stream",
     "text": [
      "\n"
     ]
    }
   ],
   "source": [
    "transactions['real_ts'] = transactions['ts'].swifter.apply(lambda ts: datetime.utcfromtimestamp(ts + 1500000000).replace(microsecond=0))"
   ]
  },
  {
   "cell_type": "markdown",
   "metadata": {},
   "source": [
    "It could be convinient to explore the nature of the process behind the dataset using the usual or more familiar representation of time"
   ]
  },
  {
   "cell_type": "code",
   "execution_count": 44,
   "metadata": {},
   "outputs": [
    {
     "data": {
      "text/plain": [
       "<AxesSubplot:xlabel='real_ts'>"
      ]
     },
     "execution_count": 44,
     "metadata": {},
     "output_type": "execute_result"
    },
    {
     "data": {
      "image/png": "[encoded data removed]",
      "text/plain": [
       "<Figure size 720x360 with 1 Axes>"
      ]
     },
     "metadata": {},
     "output_type": "display_data"
    }
   ],
   "source": [
    "transactions.groupby([transactions.real_ts.dt.hour]).size().plot.bar()"
   ]
  },
  {
   "cell_type": "markdown",
   "metadata": {},
   "source": [
    "There is an assumption that if the server is located somewhere in one place, and the service operates in all time zones that exist in Russia, so transactions are distributed uniformly"
   ]
  },
  {
   "cell_type": "markdown",
   "metadata": {},
   "source": [
    "But maybe it means that we chose wrong approach of time convertation"
   ]
  },
  {
   "cell_type": "markdown",
   "metadata": {},
   "source": [
    "Anyway, let's assume that it wac correct and try to extract more insights from ts column"
   ]
  },
  {
   "cell_type": "code",
   "execution_count": 45,
   "metadata": {},
   "outputs": [
    {
     "data": {
      "text/plain": [
       "count                 8155287\n",
       "unique                2091525\n",
       "top       2018-11-24 09:55:39\n",
       "freq                      300\n",
       "first     2018-11-09 02:30:33\n",
       "last      2018-12-08 21:39:41\n",
       "Name: real_ts, dtype: object"
      ]
     },
     "execution_count": 45,
     "metadata": {},
     "output_type": "execute_result"
    }
   ],
   "source": [
    "transactions['real_ts'].describe()"
   ]
  },
  {
   "cell_type": "markdown",
   "metadata": {},
   "source": [
    "2018-11-09 was Friday <br>\n",
    "2018-12-08 was Saturday"
   ]
  },
  {
   "cell_type": "markdown",
   "metadata": {},
   "source": [
    "Let's group transactions by week, starts from Thursday. Actually, it could be very convinient because Thursday usually is a premier weekday"
   ]
  },
  {
   "cell_type": "code",
   "execution_count": 46,
   "metadata": {},
   "outputs": [
    {
     "data": {
      "text/plain": [
       "real_ts\n",
       "2018-11-15    1732532\n",
       "2018-11-22    1647925\n",
       "2018-11-29    2096922\n",
       "2018-12-06    2079451\n",
       "2018-12-13     598457\n",
       "Freq: W-THU, dtype: int64"
      ]
     },
     "execution_count": 46,
     "metadata": {},
     "output_type": "execute_result"
    }
   ],
   "source": [
    "transactions.groupby([pd.Grouper(key='real_ts', freq='W-THU')]).size()"
   ]
  },
  {
   "cell_type": "code",
   "execution_count": 60,
   "metadata": {},
   "outputs": [
    {
     "data": {
      "text/plain": [
       "<AxesSubplot:xlabel='real_ts'>"
      ]
     },
     "execution_count": 60,
     "metadata": {},
     "output_type": "execute_result"
    },
    {
     "data": {
      "image/png": "[encoded data removed]",
      "text/plain": [
       "<Figure size 720x360 with 1 Axes>"
      ]
     },
     "metadata": {},
     "output_type": "display_data"
    }
   ],
   "source": [
    "transactions.groupby([transactions.real_ts.dt.dayofweek]).size().plot.bar()"
   ]
  },
  {
   "cell_type": "markdown",
   "metadata": {},
   "source": [
    "It looks more likelihood"
   ]
  },
  {
   "cell_type": "code",
   "execution_count": null,
   "metadata": {},
   "outputs": [],
   "source": [
    "fig, axes = plt.subplots(1, 7, sharey=True, figsize=(25, 3))"
   ]
  },
  {
   "cell_type": "code",
   "execution_count": 76,
   "metadata": {},
   "outputs": [
    {
     "name": "stdout",
     "output_type": "stream",
     "text": [
      "0\n",
      "1\n",
      "2\n",
      "3\n",
      "4\n",
      "5\n",
      "6\n"
     ]
    }
   ],
   "source": [
    "for weekday, data in transactions.groupby([transactions.real_ts.dt.dayofweek]):\n",
    "    print(weekday)\n",
    "    data.groupby([transactions.real_ts.dt.hour]).size().plot.bar(ax=axes[weekday])"
   ]
  },
  {
   "cell_type": "code",
   "execution_count": 77,
   "metadata": {},
   "outputs": [
    {
     "data": {
      "image/png": "[encoded data removed]",
      "text/plain": [
       "<Figure size 1800x216 with 7 Axes>"
      ]
     },
     "execution_count": 77,
     "metadata": {},
     "output_type": "execute_result"
    }
   ],
   "source": [
    "fig"
   ]
  },
  {
   "cell_type": "markdown",
   "metadata": {},
   "source": [
    "Let's estimate new users inflow"
   ]
  },
  {
   "cell_type": "code",
   "execution_count": 47,
   "metadata": {},
   "outputs": [],
   "source": [
    "counter = 0\n",
    "users_sets = {}\n",
    "while 30 > counter*7:\n",
    "    mask = (transactions['real_ts'] > transactions['real_ts'].min() + timedelta(days=counter*7)) & (transactions['real_ts'] <= transactions['real_ts'].min() + timedelta(days=(counter+1)*7))\n",
    "    week_slice = transactions.loc[mask]\n",
    "    week_users = week_slice['user_uid'].unique()\n",
    "    users_sets[str(counter+1)] = week_users\n",
    "    counter += 1"
   ]
  },
  {
   "cell_type": "code",
   "execution_count": 48,
   "metadata": {},
   "outputs": [
    {
     "name": "stdout",
     "output_type": "stream",
     "text": [
      "for week 1 were 235032 unique users\n",
      "for week 2 were 223799 unique users\n",
      "for week 3 were 264882 unique users\n",
      "for week 4 were 271190 unique users\n",
      "for week 5 were 127286 unique users\n"
     ]
    }
   ],
   "source": [
    "for key, value in users_sets.items():\n",
    "    print('for week {0} were {1} unique users'.format(key, len(value)))"
   ]
  },
  {
   "cell_type": "code",
   "execution_count": 53,
   "metadata": {},
   "outputs": [
    {
     "name": "stdout",
     "output_type": "stream",
     "text": [
      "for week 2 was 39.12% new users (87559/223799)\n",
      "for week 3 was 32.06% new users (84911/264882)\n",
      "for week 4 was 27.57% new users (74755/271190)\n",
      "for week 5 was 11.29% new users (14367/127286)\n"
     ]
    }
   ],
   "source": [
    "base_users = []\n",
    "for key, value in users_sets.items():\n",
    "    if key == '1':\n",
    "        base_users.extend(value)\n",
    "        continue\n",
    "    else:\n",
    "        total_users_number = len(value)\n",
    "        intersection = list(set(base_users) & set(value))\n",
    "        ratio = (total_users_number - len(intersection))/total_users_number\n",
    "        new_users = np.setdiff1d(value, base_users)\n",
    "        base_users.extend(value)\n",
    "        \n",
    "        print('for week {0} was {1}% new users ({2}/{3})'.format(key, round(ratio*100, 2), len(new_users), total_users_number))"
   ]
  },
  {
   "cell_type": "markdown",
   "metadata": {},
   "source": [
    "Now let's do the same estimation for items"
   ]
  },
  {
   "cell_type": "code",
   "execution_count": 54,
   "metadata": {},
   "outputs": [],
   "source": [
    "counter = 0\n",
    "items_sets = {}\n",
    "while 30 > counter*7:\n",
    "    mask = (transactions['real_ts'] > transactions['real_ts'].min() + timedelta(days=counter*7)) & (transactions['real_ts'] <= transactions['real_ts'].min() + timedelta(days=(counter+1)*7))\n",
    "    week_slice = transactions.loc[mask]\n",
    "    week_items = week_slice['element_uid'].unique()\n",
    "    items_sets[str(counter+1)] = week_items\n",
    "    counter += 1"
   ]
  },
  {
   "cell_type": "code",
   "execution_count": 55,
   "metadata": {},
   "outputs": [
    {
     "name": "stdout",
     "output_type": "stream",
     "text": [
      "for week 1 were 6635 unique items\n",
      "for week 2 were 6508 unique items\n",
      "for week 3 were 6653 unique items\n",
      "for week 4 were 6780 unique items\n",
      "for week 5 were 6091 unique items\n"
     ]
    }
   ],
   "source": [
    "for key, value in items_sets.items():\n",
    "    print('for week {0} were {1} unique items'.format(key, len(value)))"
   ]
  },
  {
   "cell_type": "code",
   "execution_count": 57,
   "metadata": {},
   "outputs": [
    {
     "name": "stdout",
     "output_type": "stream",
     "text": [
      "for week 2 was 4.15% new items (270/6508)\n",
      "for week 3 was 2.92% new items (194/6653)\n",
      "for week 4 was 2.64% new items (179/6780)\n",
      "for week 5 was 0.25% new items (15/6091)\n"
     ]
    }
   ],
   "source": [
    "base_items = []\n",
    "for key, value in items_sets.items():\n",
    "    if key == '1':\n",
    "        base_items.extend(value)\n",
    "        continue\n",
    "    else:\n",
    "        total_items_number = len(value)\n",
    "        intersection = list(set(base_items) & set(value))\n",
    "        ratio = (-len(intersection) + total_items_number)/total_items_number\n",
    "        new_items = np.setdiff1d(value, base_items)\n",
    "        base_items.extend(value)\n",
    "        \n",
    "        print('for week {0} was {1}% new items ({2}/{3})'.format(key, round(ratio*100, 2), len(new_items), total_items_number))"
   ]
  },
  {
   "cell_type": "markdown",
   "metadata": {},
   "source": [
    "Let's see how many transactions users spend for 1 item"
   ]
  },
  {
   "cell_type": "code",
   "execution_count": 58,
   "metadata": {},
   "outputs": [
    {
     "data": {
      "text/plain": [
       "1    8155287\n",
       "dtype: int64"
      ]
     },
     "execution_count": 58,
     "metadata": {},
     "output_type": "execute_result"
    }
   ],
   "source": [
    "transactions.groupby(['user_uid', 'element_uid']).size().value_counts()"
   ]
  },
  {
   "cell_type": "markdown",
   "metadata": {},
   "source": [
    "### Rating"
   ]
  },
  {
   "cell_type": "code",
   "execution_count": 81,
   "metadata": {},
   "outputs": [
    {
     "name": "stdout",
     "output_type": "stream",
     "text": [
      "Wall time: 246 ms\n"
     ]
    }
   ],
   "source": [
    "%%time\n",
    "ratings = pd.read_csv(\n",
    "    os.path.join(DATA_PATH, 'ratings.csv'),\n",
    "    dtype={\n",
    "        'element_uid': np.uint16,\n",
    "        'user_uid': np.uint32,\n",
    "        'ts': np.float64,\n",
    "        'rating': np.uint8\n",
    "    }\n",
    ")"
   ]
  },
  {
   "cell_type": "code",
   "execution_count": 82,
   "metadata": {},
   "outputs": [
    {
     "data": {
      "text/html": [
       "<div>\n",
       "<style scoped>\n",
       "    .dataframe tbody tr th:only-of-type {\n",
       "        vertical-align: middle;\n",
       "    }\n",
       "\n",
       "    .dataframe tbody tr th {\n",
       "        vertical-align: top;\n",
       "    }\n",
       "\n",
       "    .dataframe thead th {\n",
       "        text-align: right;\n",
       "    }\n",
       "</style>\n",
       "<table border=\"1\" class=\"dataframe\">\n",
       "  <thead>\n",
       "    <tr style=\"text-align: right;\">\n",
       "      <th></th>\n",
       "      <th>user_uid</th>\n",
       "      <th>element_uid</th>\n",
       "      <th>rating</th>\n",
       "      <th>ts</th>\n",
       "    </tr>\n",
       "  </thead>\n",
       "  <tbody>\n",
       "    <tr>\n",
       "      <th>0</th>\n",
       "      <td>571252</td>\n",
       "      <td>1364</td>\n",
       "      <td>10</td>\n",
       "      <td>4.430517e+07</td>\n",
       "    </tr>\n",
       "    <tr>\n",
       "      <th>1</th>\n",
       "      <td>63140</td>\n",
       "      <td>3037</td>\n",
       "      <td>10</td>\n",
       "      <td>4.430514e+07</td>\n",
       "    </tr>\n",
       "    <tr>\n",
       "      <th>2</th>\n",
       "      <td>443817</td>\n",
       "      <td>4363</td>\n",
       "      <td>8</td>\n",
       "      <td>4.430514e+07</td>\n",
       "    </tr>\n",
       "  </tbody>\n",
       "</table>\n",
       "</div>"
      ],
      "text/plain": [
       "   user_uid  element_uid  rating            ts\n",
       "0    571252         1364      10  4.430517e+07\n",
       "1     63140         3037      10  4.430514e+07\n",
       "2    443817         4363       8  4.430514e+07"
      ]
     },
     "execution_count": 82,
     "metadata": {},
     "output_type": "execute_result"
    }
   ],
   "source": [
    "ratings.head(3)"
   ]
  },
  {
   "cell_type": "markdown",
   "metadata": {},
   "source": [
    "Let's update form of ts"
   ]
  },
  {
   "cell_type": "code",
   "execution_count": 83,
   "metadata": {},
   "outputs": [],
   "source": [
    "ratings['rating_time'] = ratings['ts'].apply(lambda ts: datetime.utcfromtimestamp(ts + 1500000000).replace(microsecond=0))"
   ]
  },
  {
   "cell_type": "markdown",
   "metadata": {},
   "source": [
    "Let's merge transactions with ratings"
   ]
  },
  {
   "cell_type": "code",
   "execution_count": 84,
   "metadata": {},
   "outputs": [],
   "source": [
    "transactions = transactions.merge(ratings[['user_uid', 'element_uid', 'rating', 'rating_time']],  how='left', left_on=['user_uid', 'element_uid'], right_on = ['user_uid', 'element_uid'])"
   ]
  },
  {
   "cell_type": "code",
   "execution_count": 85,
   "metadata": {},
   "outputs": [
    {
     "name": "stdout",
     "output_type": "stream",
     "text": [
      "<class 'pandas.core.frame.DataFrame'>\n",
      "Int64Index: 8155287 entries, 0 to 8155286\n",
      "Data columns (total 3 columns):\n",
      " #   Column       Non-Null Count    Dtype         \n",
      "---  ------       --------------    -----         \n",
      " 0   user_uid     8155287 non-null  uint32        \n",
      " 1   rating       316244 non-null   float64       \n",
      " 2   rating_time  316244 non-null   datetime64[ns]\n",
      "dtypes: datetime64[ns](1), float64(1), uint32(1)\n",
      "memory usage: 217.8 MB\n"
     ]
    }
   ],
   "source": [
    "transactions[['user_uid', 'rating', 'rating_time']].info(null_counts=True)"
   ]
  },
  {
   "cell_type": "markdown",
   "metadata": {},
   "source": [
    "Check is there dependency between facts to be consumed and to be rated"
   ]
  },
  {
   "cell_type": "code",
   "execution_count": 93,
   "metadata": {},
   "outputs": [],
   "source": [
    "transactions['rated'] = ~transactions['rating'].isnull()*1"
   ]
  },
  {
   "cell_type": "code",
   "execution_count": 94,
   "metadata": {},
   "outputs": [
    {
     "data": {
      "text/plain": [
       "0    7839043\n",
       "1     316244\n",
       "Name: rated, dtype: int64"
      ]
     },
     "execution_count": 94,
     "metadata": {},
     "output_type": "execute_result"
    }
   ],
   "source": [
    "transactions['rated'].value_counts()"
   ]
  },
  {
   "cell_type": "code",
   "execution_count": 98,
   "metadata": {},
   "outputs": [
    {
     "data": {
      "text/html": [
       "<div>\n",
       "<style scoped>\n",
       "    .dataframe tbody tr th:only-of-type {\n",
       "        vertical-align: middle;\n",
       "    }\n",
       "\n",
       "    .dataframe tbody tr th {\n",
       "        vertical-align: top;\n",
       "    }\n",
       "\n",
       "    .dataframe thead th {\n",
       "        text-align: right;\n",
       "    }\n",
       "</style>\n",
       "<table border=\"1\" class=\"dataframe\">\n",
       "  <thead>\n",
       "    <tr style=\"text-align: right;\">\n",
       "      <th>target</th>\n",
       "      <th>0</th>\n",
       "      <th>1</th>\n",
       "    </tr>\n",
       "    <tr>\n",
       "      <th>rated</th>\n",
       "      <th></th>\n",
       "      <th></th>\n",
       "    </tr>\n",
       "  </thead>\n",
       "  <tbody>\n",
       "    <tr>\n",
       "      <th>0</th>\n",
       "      <td>2682278</td>\n",
       "      <td>5156765</td>\n",
       "    </tr>\n",
       "    <tr>\n",
       "      <th>1</th>\n",
       "      <td>10708</td>\n",
       "      <td>305536</td>\n",
       "    </tr>\n",
       "  </tbody>\n",
       "</table>\n",
       "</div>"
      ],
      "text/plain": [
       "target        0        1\n",
       "rated                   \n",
       "0       2682278  5156765\n",
       "1         10708   305536"
      ]
     },
     "execution_count": 98,
     "metadata": {},
     "output_type": "execute_result"
    }
   ],
   "source": [
    "pd.crosstab(transactions['rated'], transactions['target'])"
   ]
  },
  {
   "cell_type": "code",
   "execution_count": 99,
   "metadata": {},
   "outputs": [],
   "source": [
    "from scipy.stats import chi2_contingency"
   ]
  },
  {
   "cell_type": "code",
   "execution_count": 104,
   "metadata": {},
   "outputs": [
    {
     "data": {
      "text/plain": [
       "(130642.05721926835,\n",
       " 0.0,\n",
       " 1,\n",
       " array([[2588557.95662348, 5250485.04337652],\n",
       "        [ 104428.04337652,  211815.95662348]]))"
      ]
     },
     "execution_count": 104,
     "metadata": {},
     "output_type": "execute_result"
    }
   ],
   "source": [
    "chi2_contingency(pd.crosstab(transactions['rated'], transactions['target']))"
   ]
  },
  {
   "cell_type": "markdown",
   "metadata": {},
   "source": [
    "It means, that the chi2 distance from expected distribution to observed data is 130642.06 <br>\n",
    "And the probability to achive that or even more distance value is 0.0 (p-value) if we hypothesised that the consumption does not affect the fact of setting the rating <br> \n",
    "So we can say, that it is more likely that user who cunsumed the item will set rating to this item"
   ]
  },
  {
   "cell_type": "markdown",
   "metadata": {},
   "source": [
    "Now let's check closer dependency but between rating and watched ratio"
   ]
  },
  {
   "cell_type": "code",
   "execution_count": 107,
   "metadata": {},
   "outputs": [
    {
     "data": {
      "text/plain": [
       "<AxesSubplot:xlabel='rated', ylabel='watched_ratio'>"
      ]
     },
     "execution_count": 107,
     "metadata": {},
     "output_type": "execute_result"
    },
    {
     "data": {
      "image/png": "[encoded data removed]",
      "text/plain": [
       "<Figure size 720x360 with 1 Axes>"
      ]
     },
     "metadata": {},
     "output_type": "display_data"
    }
   ],
   "source": [
    "sns.boxplot(data=transactions, x='rated', y='watched_ratio')"
   ]
  },
  {
   "cell_type": "code",
   "execution_count": null,
   "metadata": {},
   "outputs": [],
   "source": []
  }
 ],
 "metadata": {
  "kernelspec": {
   "display_name": "Python 3",
   "language": "python",
   "name": "python3"
  },
  "language_info": {
   "codemirror_mode": {
    "name": "ipython",
    "version": 3
   },
   "file_extension": ".py",
   "mimetype": "text/x-python",
   "name": "python",
   "nbconvert_exporter": "python",
   "pygments_lexer": "ipython3",
   "version": "3.7.3"
  }
 },
 "nbformat": 4,
 "nbformat_minor": 4
}
